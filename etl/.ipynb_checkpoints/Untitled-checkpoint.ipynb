{
 "cells": [
  {
   "cell_type": "code",
   "execution_count": 1,
   "metadata": {},
   "outputs": [
    {
     "data": {
      "text/html": [
       "\n",
       "        <div>\n",
       "            <p><b>SparkContext</b></p>\n",
       "\n",
       "            <p><a href=\"http://DESKTOP-GUR7OEE:4040\">Spark UI</a></p>\n",
       "\n",
       "            <dl>\n",
       "              <dt>Version</dt>\n",
       "                <dd><code>v2.4.5</code></dd>\n",
       "              <dt>Master</dt>\n",
       "                <dd><code>spark://192.168.1.104:7077</code></dd>\n",
       "              <dt>AppName</dt>\n",
       "                <dd><code>PySparkShell</code></dd>\n",
       "            </dl>\n",
       "        </div>\n",
       "        "
      ],
      "text/plain": [
       "<SparkContext master=spark://192.168.1.104:7077 appName=PySparkShell>"
      ]
     },
     "execution_count": 1,
     "metadata": {},
     "output_type": "execute_result"
    }
   ],
   "source": [
    "sc"
   ]
  },
  {
   "cell_type": "code",
   "execution_count": 2,
   "metadata": {},
   "outputs": [
    {
     "name": "stdout",
     "output_type": "stream",
     "text": [
      "+------+----------+\n",
      "|Fam_id|   Nom_fam|\n",
      "+------+----------+\n",
      "|     1|   TABLETA|\n",
      "|     2|INYECTABLE|\n",
      "|     3|SUSPENSION|\n",
      "+------+----------+\n",
      "\n"
     ]
    }
   ],
   "source": [
    "#BD ORIGEN\n",
    "hostname = \"127.0.0.1\" #EN LA MAQUINA EN HEROKU\n",
    "dbname = \"farmadb\"\n",
    "jdbcPort = 3306\n",
    "username = \"root\"\n",
    "password = \"12345\"\n",
    "jdbc_url = \"jdbc:mysql://{0}:{1}/{2}?user={3}&password={4}\"\\\n",
    "            .format(hostname, jdbcPort, dbname, username, password)\n",
    "\n",
    "query = \"(select * from FAMILIA) t1_alias\"\n",
    "df1 = sqlContext.read.format('jdbc')\\\n",
    "        .options(driver = 'com.mysql.jdbc.Driver', url=jdbc_url, dbtable=query).load()\n",
    "df1.show()"
   ]
  },
  {
   "cell_type": "code",
   "execution_count": 3,
   "metadata": {},
   "outputs": [
    {
     "name": "stdout",
     "output_type": "stream",
     "text": [
      "+------+----------+\n",
      "|Fam_id|   Nom_fam|\n",
      "+------+----------+\n",
      "|     2|INYECTABLE|\n",
      "|     3|SUSPENSION|\n",
      "+------+----------+\n",
      "\n"
     ]
    }
   ],
   "source": [
    "df1.createOrReplaceTempView(\"mytable\") \n",
    "df2 = spark.sql(\"SELECT * from mytable \") #where Fam_id >1\n",
    "df2.show()"
   ]
  },
  {
   "cell_type": "code",
   "execution_count": 4,
   "metadata": {},
   "outputs": [],
   "source": [
    "# db destino condigs\n",
    "url = \"jdbc:mysql://localhost/mi1db\"\n",
    "properties = {\n",
    "    \"driver\": \"com.mysql.jdbc.Driver\",\n",
    "    \"user\": \"root\",\n",
    "    \"password\": \"12345\"\n",
    "}"
   ]
  },
  {
   "cell_type": "code",
   "execution_count": 5,
   "metadata": {},
   "outputs": [],
   "source": [
    "mode = \"overwrite\"\n",
    "df2.write.jdbc(url=url, table=\"DFam\", mode=mode, properties=properties)"
   ]
  },
  {
   "cell_type": "code",
   "execution_count": null,
   "metadata": {},
   "outputs": [],
   "source": []
  }
 ],
 "metadata": {
  "kernelspec": {
   "display_name": "Python 3",
   "language": "python",
   "name": "python3"
  },
  "language_info": {
   "codemirror_mode": {
    "name": "ipython",
    "version": 3
   },
   "file_extension": ".py",
   "mimetype": "text/x-python",
   "name": "python",
   "nbconvert_exporter": "python",
   "pygments_lexer": "ipython3",
   "version": "3.7.6"
  }
 },
 "nbformat": 4,
 "nbformat_minor": 4
}
